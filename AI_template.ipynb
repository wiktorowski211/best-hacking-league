{
  "nbformat": 4,
  "nbformat_minor": 0,
  "metadata": {
    "kernelspec": {
      "display_name": "Python 3",
      "language": "python",
      "name": "python3"
    },
    "language_info": {
      "codemirror_mode": {
        "name": "ipython",
        "version": 3
      },
      "file_extension": ".py",
      "mimetype": "text/x-python",
      "name": "python",
      "nbconvert_exporter": "python",
      "pygments_lexer": "ipython3",
      "version": "3.8.5"
    },
    "colab": {
      "name": "AI - template.ipynb",
      "provenance": [],
      "toc_visible": true
    }
  },
  "cells": [
    {
      "cell_type": "markdown",
      "metadata": {
        "id": "JsCHgiGq1WcB"
      },
      "source": [
        "# Sprawdzanie dokładności modelu\n",
        "Plik test_data.csv jest dostępny tylko dla jury. Zawiera dane testowe - jednakowe dla wszystkich drużyn. Jest w takim samym formacie co zbiór, który otrzymaliście wraz z zadaniem, tylko już z czystymi danymi."
      ]
    },
    {
      "cell_type": "code",
      "metadata": {
        "id": "EOWW2rar1WcI"
      },
      "source": [
        "import pandas as pd\n",
        "import numpy as np\n",
        "import pickle"
      ],
      "execution_count": 1,
      "outputs": []
    },
    {
      "cell_type": "code",
      "metadata": {
        "id": "Osdd4cNP1WcJ"
      },
      "source": [
        "test_data = pd.read_csv(\"test_data.csv\")"
      ],
      "execution_count": null,
      "outputs": []
    },
    {
      "cell_type": "markdown",
      "metadata": {
        "id": "SPNSq6va1WcK"
      },
      "source": [
        "### Miejsce na twój kod:"
      ]
    },
    {
      "cell_type": "code",
      "metadata": {
        "colab": {
          "base_uri": "https://localhost:8080/"
        },
        "id": "NKeWzv4E1WcK",
        "outputId": "abf30fd2-7440-435e-fae1-03756d8868a2"
      },
      "source": [
        "important_columns = ['tGravityAcc-mean()-X', 'tGravityAcc-max()-X', 'angle(X,gravityMean)', 'tGravityAcc-mean()-Y', 'tGravityAcc-min()-X', 'tGravityAcc-max()-Y', 'tGravityAcc-min()-Y', 'angle(Y,gravityMean)', 'tGravityAcc-energy()-X', 'tGravityAcc-min()-Z', 'tBodyAccJerk-std()-X', 'tGravityAcc-mean()-Z', 'fBodyAccMag-std()']\n",
        "\n",
        "X = test_data[important_columns]\n",
        "\n",
        "clf = pickle.load(open('model.pickle', 'rb'))\n",
        "\n",
        "predicted = clf.predict(X)"
      ],
      "execution_count": 13,
      "outputs": [
        {
          "output_type": "stream",
          "text": [
            "/usr/local/lib/python3.7/dist-packages/sklearn/base.py:318: UserWarning: Trying to unpickle estimator DecisionTreeClassifier from version 0.22.2 when using version 0.22.2.post1. This might lead to breaking code or invalid results. Use at your own risk.\n",
            "  UserWarning)\n"
          ],
          "name": "stderr"
        }
      ]
    },
    {
      "cell_type": "markdown",
      "metadata": {
        "id": "bAAfTdmK1WcK"
      },
      "source": [
        "### Sprawdzanie dokładności:\n",
        "Predicted - zmienna przechowująca przewidzianą aktywność. Poniższa linijka powinna zwrócić wartość 0-1."
      ]
    },
    {
      "cell_type": "code",
      "metadata": {
        "colab": {
          "base_uri": "https://localhost:8080/"
        },
        "id": "_u9qxSqF1WcL",
        "outputId": "a54ce8b3-971e-43fd-f7a7-ce571730b75a"
      },
      "source": [
        "np.mean(predicted == test_data.Activity)"
      ],
      "execution_count": 14,
      "outputs": [
        {
          "output_type": "execute_result",
          "data": {
            "text/plain": [
              "0.9957398171238571"
            ]
          },
          "metadata": {
            "tags": []
          },
          "execution_count": 14
        }
      ]
    }
  ]
}